{
 "cells": [
  {
   "cell_type": "markdown",
   "id": "758cbd11-c5b4-4c2b-adee-8d62b5b68adc",
   "metadata": {},
   "source": [
    "# Actividad Guiada 1 de Algoritmos de Optimizacion\n",
    "\n",
    "# Nombre: Sergio Moya Rodrigo\n",
    "\n",
    "Algoritmos AG1 Sergio_Moya.ipynb\n",
    "\n",
    "\n",
    "\n",
    "https://github.com/smoyarodrigo/03MAIR-Algoritmos-de-Optimizacion\n"
   ]
  },
  {
   "cell_type": "markdown",
   "id": "e6ff1088-e0fe-4cf2-9caf-f419db3988c0",
   "metadata": {},
   "source": [
    "# Algoritmo de Euclides para calcular el máximo común divisor (MCD)"
   ]
  },
  {
   "cell_type": "code",
   "execution_count": 1,
   "id": "56c19137-cbd2-4a29-bb5d-9b72f28e4e60",
   "metadata": {},
   "outputs": [
    {
     "name": "stdin",
     "output_type": "stream",
     "text": [
      "Introduce el primer número:  1025666\n",
      "Introduce el segundo número:  12566\n"
     ]
    },
    {
     "name": "stdout",
     "output_type": "stream",
     "text": [
      "El MCD de 1025666 y 12566 es: 2\n"
     ]
    },
    {
     "data": {
      "text/plain": [
       "12"
      ]
     },
     "execution_count": 1,
     "metadata": {},
     "output_type": "execute_result"
    }
   ],
   "source": [
    "def euclides(a, b):\n",
    "    \"\"\"\n",
    "    Calcula el máximo común divisor (MCD) de dos números enteros a y b\n",
    "    usando el Algoritmo de Euclides.\n",
    "    \"\"\"\n",
    "    while b != 0:\n",
    "        a, b = b, a % b\n",
    "    return a\n",
    "\n",
    "# Ejemplo de uso\n",
    "num1 = int(input(\"Introduce el primer número: \"))\n",
    "num2 = int(input(\"Introduce el segundo número: \"))\n",
    "\n",
    "mcd = euclides(num1, num2)\n",
    "print(f\"El MCD de {num1} y {num2} es: {mcd}\")\n",
    "\n",
    "\n",
    "\n",
    "euclides(24, 12)"
   ]
  },
  {
   "cell_type": "markdown",
   "id": "3bab5206-c19a-4265-be0e-4d948e024a8b",
   "metadata": {},
   "source": [
    "# Decorador python para medir el tiempo de ejecución"
   ]
  },
  {
   "cell_type": "code",
   "execution_count": 3,
   "id": "c44c3c3e-b4c6-4944-a66b-35a499d9661e",
   "metadata": {},
   "outputs": [],
   "source": [
    "import time\n",
    "\n",
    "# Decorador para medir el tiempo de ejecución\n",
    "def medir_tiempo(func):\n",
    "    def wrapper(*args, **kwargs):\n",
    "        inicio = time.perf_counter()\n",
    "        resultado = func(*args, **kwargs)\n",
    "        fin = time.perf_counter()\n",
    "        print(f\"Tiempo de ejecución de '{func.__name__}': {fin - inicio:.6f} segundos\")\n",
    "        return resultado\n",
    "    return wrapper"
   ]
  },
  {
   "cell_type": "markdown",
   "id": "196700c7-38f0-4420-bf4f-f6fd2fd688d1",
   "metadata": {},
   "source": [
    "# Método de Herón para aproximar la raiz cuadrada"
   ]
  },
  {
   "cell_type": "code",
   "execution_count": 5,
   "id": "8b27f64c-6895-4bfd-a011-16de723a70c0",
   "metadata": {},
   "outputs": [
    {
     "name": "stdin",
     "output_type": "stream",
     "text": [
      "Introduce el número para calcular su raíz cuadrada:  2\n"
     ]
    },
    {
     "name": "stdout",
     "output_type": "stream",
     "text": [
      "Tiempo de ejecución de 'raiz_cuadrada_heron': 0.000012 segundos\n",
      "La raíz cuadrada de 2.0 es aproximadamente 1.414213562373095\n"
     ]
    }
   ],
   "source": [
    "@medir_tiempo\n",
    "def raiz_cuadrada_heron(n, tolerancia=1e-10, max_iteraciones=1000):\n",
    "    \"\"\"\n",
    "    Calcula la raíz cuadrada de un número n utilizando el Método de Herón.\n",
    "    Parámetros:\n",
    "    - n: Número del cual calcular la raíz cuadrada (debe ser >= 0).\n",
    "    - tolerancia: Precisión deseada para la solución.\n",
    "    - max_iteraciones: Número máximo de iteraciones permitidas.\n",
    "\n",
    "    Retorna:\n",
    "    - Una aproximación de la raíz cuadrada de n.\n",
    "    \"\"\"\n",
    "    if n < 0:\n",
    "        raise ValueError(\"No se puede calcular la raíz cuadrada de un número negativo.\")\n",
    "\n",
    "    # Inicialización de la estimación (puede ser n o un valor aproximado inicial)\n",
    "    x = n if n != 0 else 0.0\n",
    "    iteraciones = 0\n",
    "\n",
    "    while iteraciones < max_iteraciones:\n",
    "        # Nueva estimación según el método de Herón\n",
    "        nuevo_x = 0.5 * (x + n / x)\n",
    "\n",
    "        # Si la diferencia entre iteraciones es menor que la tolerancia, detenerse\n",
    "        if abs(nuevo_x - x) < tolerancia:\n",
    "            return nuevo_x\n",
    "\n",
    "        x = nuevo_x\n",
    "        iteraciones += 1\n",
    "\n",
    "    # Si no se alcanzó la tolerancia en el número máximo de iteraciones\n",
    "    raise RuntimeError(f\"No se alcanzó la convergencia después de {max_iteraciones} iteraciones.\")\n",
    "\n",
    "# Ejemplo de uso\n",
    "numero = float(input(\"Introduce el número para calcular su raíz cuadrada: \"))\n",
    "resultado = raiz_cuadrada_heron(numero)\n",
    "print(f\"La raíz cuadrada de {numero} es aproximadamente {resultado}\")\n",
    "\n"
   ]
  },
  {
   "cell_type": "markdown",
   "id": "f379942a-e315-4e7c-bf90-bba05e9623e2",
   "metadata": {},
   "source": [
    "# Algoritmos de Optimización. Componentes"
   ]
  },
  {
   "attachments": {},
   "cell_type": "markdown",
   "id": "8cd39f13-5b14-4b60-899f-387b33d982cc",
   "metadata": {},
   "source": [
    "<img src=\"Algoritmos de optimización.png\">"
   ]
  },
  {
   "cell_type": "markdown",
   "id": "8df444a8-258d-45b2-b846-b78b00d39565",
   "metadata": {},
   "source": [
    "# Variables decisoras"
   ]
  },
  {
   "cell_type": "code",
   "execution_count": 11,
   "id": "0afd49f7-9d4f-4db2-88dd-980c78fdb38d",
   "metadata": {},
   "outputs": [],
   "source": [
    "from itertools import product\n",
    "\n",
    "# Paso 1: Inicializamos los datos\n",
    "# Demanda mínima de autobuses por tramo\n",
    "demanda = [4, 8, 10, 7, 12, 4]  # d[0], d[1], ..., d[5]\n",
    "tramos = len(demanda)  # Número de tramos (6 en este caso)\n"
   ]
  },
  {
   "cell_type": "markdown",
   "id": "054d2da3-d7cf-4dc6-96c2-64e542aca47a",
   "metadata": {},
   "source": [
    "# Restricciones"
   ]
  },
  {
   "cell_type": "code",
   "execution_count": 24,
   "id": "5ef07c84-7bf1-4df2-b1ce-a0f0d8e4d9a1",
   "metadata": {},
   "outputs": [],
   "source": [
    "#Posible Solucion\n",
    "x = [4,5,6,7,8,9]\n",
    "\n",
    "for t in range(tramos):\n",
    "    # Calculamos el número actual de autobuses que están cubriendo el tramo t\n",
    "    cobertura_actual = x[t] + x[t - 1]  # Autobuses en t y t-1 (cíclico)\n",
    "\n",
    "    # Si la cobertura actual es menor que la demanda, añadimos autobuses en t\n",
    "    if cobertura_actual < demanda[t]:\n",
    "        # Añadimos los autobuses necesarios en el tramo t\n",
    "        x[t] += demanda[t] - cobertura_actual"
   ]
  },
  {
   "cell_type": "markdown",
   "id": "23d742de-0c49-4e62-9fd6-22ef96ab675a",
   "metadata": {},
   "source": [
    "# Función Objetivo"
   ]
  },
  {
   "cell_type": "markdown",
   "id": "6c3c323f-19f6-43a6-904f-9de0552abac2",
   "metadata": {},
   "source": [
    "<img src=\"Captura de pantalla 2024-12-21 100340.png\">"
   ]
  },
  {
   "cell_type": "code",
   "execution_count": 26,
   "id": "05465655-30d9-4ba6-b03c-7665f46bf842",
   "metadata": {},
   "outputs": [],
   "source": [
    "#Función objetivo\n",
    "f_objetivo = sum(x)"
   ]
  },
  {
   "cell_type": "markdown",
   "id": "e1e29548-65b8-4a02-9e06-243195c24cba",
   "metadata": {},
   "source": [
    "# Determinar posibles soluciones y elegir la mejor así como determinar el orden de complejidad si aumenta la franja horaria"
   ]
  },
  {
   "cell_type": "markdown",
   "id": "51357f41-18c7-4e10-b543-686becfb4c9a",
   "metadata": {},
   "source": [
    "# A medida que se incrementan las franjas horarias, el tamaño del espacio de búsqueda y la complejidad computacional crecen de manera exponencial, ya que hay más combinaciones posibles. Esto sugiere que el problema es de tipo NP-difícil.\n",
    "# Voy a implementar una solución utilizando programación lineal con la biblioteca pulp para encontrar la mejor solución, y calcularé el orden de complejidad teórico si las franjas horarias aumentan."
   ]
  },
  {
   "cell_type": "code",
   "execution_count": null,
   "id": "618a39a7-27f4-401c-8b2f-3dbe59ce28d2",
   "metadata": {},
   "outputs": [],
   "source": [
    "from pulp import LpProblem, LpVariable, lpSum, LpMinimize\n",
    "\n",
    "# Parámetros del problema\n",
    "# Número de franjas horarias y demanda de autobuses por franja\n",
    "franjas = [4, 8, 7, 8, 12, 12, 8, 4]\n",
    "num_franjas = len(franjas)\n",
    "\n",
    "# Crear el problema de minimización\n",
    "problema = LpProblem(\"Minimizar_Autobuses\", LpMinimize)\n",
    "\n",
    "# Variables de decisión: x[i][j] indica si el autobús j opera en la franja i\n",
    "num_autobuses = sum(franjas)  # Máximo posible en el peor caso\n",
    "x = [[LpVariable(f\"x_{i}_{j}\", 0, 1, cat=\"Binary\") for j in range(num_autobuses)] for i in range(num_franjas)]\n",
    "\n",
    "# Función objetivo: minimizar el número total de autobuses\n",
    "problema += lpSum(x[i][j] for i in range(num_franjas) for j in range(num_autobuses))\n",
    "\n",
    "# Restricciones\n",
    "for i in range(num_franjas):\n",
    "    # Satisfacer la demanda de autobuses en cada franja\n",
    "    problema += lpSum(x[i][j] for j in range(num_autobuses)) >= franjas[i]\n",
    "\n",
    "for j in range(num_autobuses):\n",
    "    # Un autobús no puede operar más de 8 horas consecutivas (2 franjas contiguas)\n",
    "    for i in range(num_franjas - 2):\n",
    "        problema += lpSum(x[k][j] for k in range(i, i + 3)) <= 2\n",
    "\n",
    "# Resolver el problema\n",
    "problema.solve()\n",
    "\n",
    "# Resultado\n",
    "print(\"Estado de la solución:\", problema.status)\n",
    "print(\"Número mínimo de autobuses requeridos:\", sum(1 for j in range(num_autobuses) if any(x[i][j].varValue for i in range(num_franjas))))\n",
    "\n",
    "# Visualizar la asignación\n",
    "for j in range(num_autobuses):\n",
    "    horarios = [i for i in range(num_franjas) if x[i][j].varValue == 1]\n",
    "    if horarios:\n",
    "        print(f\"Autobús {j + 1}: opera en las franjas {horarios}\")\n",
    "\n",
    "# Evaluar la complejidad del problema\n",
    "import math\n",
    "\n",
    "# Complejidad teórica: O(2^(n*m)), donde n es el número de franjas y m es el número máximo de autobuses\n",
    "n = num_franjas\n",
    "m = num_autobuses\n",
    "complejidad = math.pow(2, n * m)\n",
    "print(f\"Orden de complejidad (estimado): O(2^({n}*{m})) = O({complejidad:.2e})\")\n"
   ]
  }
 ],
 "metadata": {
  "kernelspec": {
   "display_name": "Python 3 (ipykernel)",
   "language": "python",
   "name": "python3"
  },
  "language_info": {
   "codemirror_mode": {
    "name": "ipython",
    "version": 3
   },
   "file_extension": ".py",
   "mimetype": "text/x-python",
   "name": "python",
   "nbconvert_exporter": "python",
   "pygments_lexer": "ipython3",
   "version": "3.12.4"
  }
 },
 "nbformat": 4,
 "nbformat_minor": 5
}
